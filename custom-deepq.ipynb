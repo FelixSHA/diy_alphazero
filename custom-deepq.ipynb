{
 "cells": [
  {
   "cell_type": "code",
   "execution_count": 2,
   "metadata": {},
   "outputs": [
    {
     "ename": "AttributeError",
     "evalue": "module 'tensorflow.python.framework.type_spec' has no attribute '_NAME_TO_TYPE_SPEC'",
     "output_type": "error",
     "traceback": [
      "\u001b[1;31m---------------------------------------------------------------------------\u001b[0m",
      "\u001b[1;31mAttributeError\u001b[0m                            Traceback (most recent call last)",
      "Cell \u001b[1;32mIn[2], line 6\u001b[0m\n\u001b[0;32m      3\u001b[0m \u001b[39mfrom\u001b[39;00m \u001b[39mgym\u001b[39;00m \u001b[39mimport\u001b[39;00m spaces\n\u001b[0;32m      4\u001b[0m \u001b[39mimport\u001b[39;00m \u001b[39mnumpy\u001b[39;00m \u001b[39mas\u001b[39;00m \u001b[39mnp6\u001b[39;00m\n\u001b[1;32m----> 6\u001b[0m \u001b[39mfrom\u001b[39;00m \u001b[39mtf_agents\u001b[39;00m\u001b[39m.\u001b[39;00m\u001b[39magents\u001b[39;00m\u001b[39m.\u001b[39;00m\u001b[39mdqn\u001b[39;00m \u001b[39mimport\u001b[39;00m dqn_agent\n\u001b[0;32m      7\u001b[0m \u001b[39mfrom\u001b[39;00m \u001b[39mtf_agents\u001b[39;00m\u001b[39m.\u001b[39;00m\u001b[39mnetworks\u001b[39;00m \u001b[39mimport\u001b[39;00m q_network\n\u001b[0;32m      8\u001b[0m \u001b[39mfrom\u001b[39;00m \u001b[39mtf_agents\u001b[39;00m\u001b[39m.\u001b[39;00m\u001b[39menvironments\u001b[39;00m \u001b[39mimport\u001b[39;00m tf_py_environment\n",
      "File \u001b[1;32mc:\\Users\\Felix\\.virtualenvs\\diy_alphazero-3BngPyJJ\\lib\\site-packages\\tf_agents\\__init__.py:70\u001b[0m\n\u001b[0;32m     66\u001b[0m _ensure_tf_install()\n\u001b[0;32m     68\u001b[0m \u001b[39mimport\u001b[39;00m \u001b[39msys\u001b[39;00m \u001b[39mas\u001b[39;00m \u001b[39m_sys\u001b[39;00m\n\u001b[1;32m---> 70\u001b[0m \u001b[39mfrom\u001b[39;00m \u001b[39mtf_agents\u001b[39;00m \u001b[39mimport\u001b[39;00m agents\n\u001b[0;32m     71\u001b[0m \u001b[39mfrom\u001b[39;00m \u001b[39mtf_agents\u001b[39;00m \u001b[39mimport\u001b[39;00m bandits\n\u001b[0;32m     72\u001b[0m \u001b[39mfrom\u001b[39;00m \u001b[39mtf_agents\u001b[39;00m \u001b[39mimport\u001b[39;00m distributions\n",
      "File \u001b[1;32mc:\\Users\\Felix\\.virtualenvs\\diy_alphazero-3BngPyJJ\\lib\\site-packages\\tf_agents\\agents\\__init__.py:17\u001b[0m\n\u001b[0;32m      1\u001b[0m \u001b[39m# coding=utf-8\u001b[39;00m\n\u001b[0;32m      2\u001b[0m \u001b[39m# Copyright 2020 The TF-Agents Authors.\u001b[39;00m\n\u001b[0;32m      3\u001b[0m \u001b[39m#\u001b[39;00m\n\u001b[1;32m   (...)\u001b[0m\n\u001b[0;32m     13\u001b[0m \u001b[39m# See the License for the specific language governing permissions and\u001b[39;00m\n\u001b[0;32m     14\u001b[0m \u001b[39m# limitations under the License.\u001b[39;00m\n\u001b[0;32m     16\u001b[0m \u001b[39m\"\"\"Module importing all agents.\"\"\"\u001b[39;00m\n\u001b[1;32m---> 17\u001b[0m \u001b[39mfrom\u001b[39;00m \u001b[39mtf_agents\u001b[39;00m\u001b[39m.\u001b[39;00m\u001b[39magents\u001b[39;00m \u001b[39mimport\u001b[39;00m behavioral_cloning\n\u001b[0;32m     18\u001b[0m \u001b[39mfrom\u001b[39;00m \u001b[39mtf_agents\u001b[39;00m\u001b[39m.\u001b[39;00m\u001b[39magents\u001b[39;00m \u001b[39mimport\u001b[39;00m categorical_dqn\n\u001b[0;32m     19\u001b[0m \u001b[39mfrom\u001b[39;00m \u001b[39mtf_agents\u001b[39;00m\u001b[39m.\u001b[39;00m\u001b[39magents\u001b[39;00m \u001b[39mimport\u001b[39;00m cql\n",
      "File \u001b[1;32mc:\\Users\\Felix\\.virtualenvs\\diy_alphazero-3BngPyJJ\\lib\\site-packages\\tf_agents\\agents\\behavioral_cloning\\__init__.py:17\u001b[0m\n\u001b[0;32m      1\u001b[0m \u001b[39m# coding=utf-8\u001b[39;00m\n\u001b[0;32m      2\u001b[0m \u001b[39m# Copyright 2020 The TF-Agents Authors.\u001b[39;00m\n\u001b[0;32m      3\u001b[0m \u001b[39m#\u001b[39;00m\n\u001b[1;32m   (...)\u001b[0m\n\u001b[0;32m     13\u001b[0m \u001b[39m# See the License for the specific language governing permissions and\u001b[39;00m\n\u001b[0;32m     14\u001b[0m \u001b[39m# limitations under the License.\u001b[39;00m\n\u001b[0;32m     16\u001b[0m \u001b[39m\"\"\"A Behavioral Cloning agent.\"\"\"\u001b[39;00m\n\u001b[1;32m---> 17\u001b[0m \u001b[39mfrom\u001b[39;00m \u001b[39mtf_agents\u001b[39;00m\u001b[39m.\u001b[39;00m\u001b[39magents\u001b[39;00m\u001b[39m.\u001b[39;00m\u001b[39mbehavioral_cloning\u001b[39;00m \u001b[39mimport\u001b[39;00m behavioral_cloning_agent\n",
      "File \u001b[1;32mc:\\Users\\Felix\\.virtualenvs\\diy_alphazero-3BngPyJJ\\lib\\site-packages\\tf_agents\\agents\\behavioral_cloning\\behavioral_cloning_agent.py:37\u001b[0m\n\u001b[0;32m     35\u001b[0m \u001b[39mimport\u001b[39;00m \u001b[39mgin\u001b[39;00m\n\u001b[0;32m     36\u001b[0m \u001b[39mimport\u001b[39;00m \u001b[39mtensorflow\u001b[39;00m \u001b[39mas\u001b[39;00m \u001b[39mtf\u001b[39;00m\n\u001b[1;32m---> 37\u001b[0m \u001b[39mimport\u001b[39;00m \u001b[39mtensorflow_probability\u001b[39;00m \u001b[39mas\u001b[39;00m \u001b[39mtfp\u001b[39;00m\n\u001b[0;32m     38\u001b[0m \u001b[39mfrom\u001b[39;00m \u001b[39mtf_agents\u001b[39;00m\u001b[39m.\u001b[39;00m\u001b[39magents\u001b[39;00m \u001b[39mimport\u001b[39;00m data_converter\n\u001b[0;32m     39\u001b[0m \u001b[39mfrom\u001b[39;00m \u001b[39mtf_agents\u001b[39;00m\u001b[39m.\u001b[39;00m\u001b[39magents\u001b[39;00m \u001b[39mimport\u001b[39;00m tf_agent\n",
      "File \u001b[1;32mc:\\Users\\Felix\\.virtualenvs\\diy_alphazero-3BngPyJJ\\lib\\site-packages\\tensorflow_probability\\__init__.py:20\u001b[0m\n\u001b[0;32m     15\u001b[0m \u001b[39m\"\"\"Tools for probabilistic reasoning in TensorFlow.\"\"\"\u001b[39;00m\n\u001b[0;32m     17\u001b[0m \u001b[39m# Contributors to the `python/` dir should not alter this file; instead update\u001b[39;00m\n\u001b[0;32m     18\u001b[0m \u001b[39m# `python/__init__.py` as necessary.\u001b[39;00m\n\u001b[1;32m---> 20\u001b[0m \u001b[39mfrom\u001b[39;00m \u001b[39mtensorflow_probability\u001b[39;00m \u001b[39mimport\u001b[39;00m substrates\n\u001b[0;32m     21\u001b[0m \u001b[39m# from tensorflow_probability.google import staging  # DisableOnExport\u001b[39;00m\n\u001b[0;32m     22\u001b[0m \u001b[39m# from tensorflow_probability.google import tfp_google  # DisableOnExport\u001b[39;00m\n\u001b[0;32m     23\u001b[0m \u001b[39mfrom\u001b[39;00m \u001b[39mtensorflow_probability\u001b[39;00m\u001b[39m.\u001b[39;00m\u001b[39mpython\u001b[39;00m \u001b[39mimport\u001b[39;00m \u001b[39m*\u001b[39m  \u001b[39m# pylint: disable=wildcard-import\u001b[39;00m\n",
      "File \u001b[1;32mc:\\Users\\Felix\\.virtualenvs\\diy_alphazero-3BngPyJJ\\lib\\site-packages\\tensorflow_probability\\substrates\\__init__.py:17\u001b[0m\n\u001b[0;32m      1\u001b[0m \u001b[39m# Copyright 2019 The TensorFlow Probability Authors.\u001b[39;00m\n\u001b[0;32m      2\u001b[0m \u001b[39m#\u001b[39;00m\n\u001b[0;32m      3\u001b[0m \u001b[39m# Licensed under the Apache License, Version 2.0 (the \"License\");\u001b[39;00m\n\u001b[1;32m   (...)\u001b[0m\n\u001b[0;32m     13\u001b[0m \u001b[39m# limitations under the License.\u001b[39;00m\n\u001b[0;32m     14\u001b[0m \u001b[39m# ============================================================================\u001b[39;00m\n\u001b[0;32m     15\u001b[0m \u001b[39m\"\"\"TensorFlow Probability alternative substrates.\"\"\"\u001b[39;00m\n\u001b[1;32m---> 17\u001b[0m \u001b[39mfrom\u001b[39;00m \u001b[39mtensorflow_probability\u001b[39;00m\u001b[39m.\u001b[39;00m\u001b[39mpython\u001b[39;00m\u001b[39m.\u001b[39;00m\u001b[39minternal\u001b[39;00m \u001b[39mimport\u001b[39;00m all_util\n\u001b[0;32m     18\u001b[0m \u001b[39mfrom\u001b[39;00m \u001b[39mtensorflow_probability\u001b[39;00m\u001b[39m.\u001b[39;00m\u001b[39mpython\u001b[39;00m\u001b[39m.\u001b[39;00m\u001b[39minternal\u001b[39;00m \u001b[39mimport\u001b[39;00m lazy_loader  \u001b[39m# pylint: disable=g-direct-tensorflow-import\u001b[39;00m\n\u001b[0;32m     21\u001b[0m jax \u001b[39m=\u001b[39m lazy_loader\u001b[39m.\u001b[39mLazyLoader(\n\u001b[0;32m     22\u001b[0m     \u001b[39m'\u001b[39m\u001b[39mjax\u001b[39m\u001b[39m'\u001b[39m, \u001b[39mglobals\u001b[39m(),\n\u001b[0;32m     23\u001b[0m     \u001b[39m'\u001b[39m\u001b[39mtensorflow_probability.substrates.jax\u001b[39m\u001b[39m'\u001b[39m)\n",
      "File \u001b[1;32mc:\\Users\\Felix\\.virtualenvs\\diy_alphazero-3BngPyJJ\\lib\\site-packages\\tensorflow_probability\\python\\__init__.py:138\u001b[0m\n\u001b[0;32m    135\u001b[0m \u001b[39mif\u001b[39;00m _tf_loaded():\n\u001b[0;32m    136\u001b[0m   \u001b[39m# Non-lazy load of packages that register with tensorflow or keras.\u001b[39;00m\n\u001b[0;32m    137\u001b[0m   \u001b[39mfor\u001b[39;00m pkg_name \u001b[39min\u001b[39;00m _maybe_nonlazy_load:\n\u001b[1;32m--> 138\u001b[0m     \u001b[39mdir\u001b[39;49m(\u001b[39mglobals\u001b[39;49m()[pkg_name])  \u001b[39m# Forces loading the package from its lazy loader.\u001b[39;00m\n\u001b[0;32m    141\u001b[0m all_util\u001b[39m.\u001b[39mremove_undocumented(\u001b[39m__name__\u001b[39m, _lazy_load \u001b[39m+\u001b[39m _maybe_nonlazy_load)\n",
      "File \u001b[1;32mc:\\Users\\Felix\\.virtualenvs\\diy_alphazero-3BngPyJJ\\lib\\site-packages\\tensorflow_probability\\python\\internal\\lazy_loader.py:57\u001b[0m, in \u001b[0;36mLazyLoader.__dir__\u001b[1;34m(self)\u001b[0m\n\u001b[0;32m     56\u001b[0m \u001b[39mdef\u001b[39;00m \u001b[39m__dir__\u001b[39m(\u001b[39mself\u001b[39m):\n\u001b[1;32m---> 57\u001b[0m   module \u001b[39m=\u001b[39m \u001b[39mself\u001b[39;49m\u001b[39m.\u001b[39;49m_load()\n\u001b[0;32m     58\u001b[0m   \u001b[39mreturn\u001b[39;00m \u001b[39mdir\u001b[39m(module)\n",
      "File \u001b[1;32mc:\\Users\\Felix\\.virtualenvs\\diy_alphazero-3BngPyJJ\\lib\\site-packages\\tensorflow_probability\\python\\internal\\lazy_loader.py:40\u001b[0m, in \u001b[0;36mLazyLoader._load\u001b[1;34m(self)\u001b[0m\n\u001b[0;32m     38\u001b[0m   \u001b[39mself\u001b[39m\u001b[39m.\u001b[39m_on_first_access \u001b[39m=\u001b[39m \u001b[39mNone\u001b[39;00m\n\u001b[0;32m     39\u001b[0m \u001b[39m# Import the target module and insert it into the parent's namespace\u001b[39;00m\n\u001b[1;32m---> 40\u001b[0m module \u001b[39m=\u001b[39m importlib\u001b[39m.\u001b[39;49mimport_module(\u001b[39mself\u001b[39;49m\u001b[39m.\u001b[39;49m\u001b[39m__name__\u001b[39;49m)\n\u001b[0;32m     41\u001b[0m \u001b[39mif\u001b[39;00m \u001b[39mself\u001b[39m\u001b[39m.\u001b[39m_parent_module_globals \u001b[39mis\u001b[39;00m \u001b[39mnot\u001b[39;00m \u001b[39mNone\u001b[39;00m:\n\u001b[0;32m     42\u001b[0m   \u001b[39mself\u001b[39m\u001b[39m.\u001b[39m_parent_module_globals[\u001b[39mself\u001b[39m\u001b[39m.\u001b[39m_local_name] \u001b[39m=\u001b[39m module\n",
      "File \u001b[1;32mC:\\Program Files\\WindowsApps\\PythonSoftwareFoundation.Python.3.10_3.10.3056.0_x64__qbz5n2kfra8p0\\lib\\importlib\\__init__.py:126\u001b[0m, in \u001b[0;36mimport_module\u001b[1;34m(name, package)\u001b[0m\n\u001b[0;32m    124\u001b[0m             \u001b[39mbreak\u001b[39;00m\n\u001b[0;32m    125\u001b[0m         level \u001b[39m+\u001b[39m\u001b[39m=\u001b[39m \u001b[39m1\u001b[39m\n\u001b[1;32m--> 126\u001b[0m \u001b[39mreturn\u001b[39;00m _bootstrap\u001b[39m.\u001b[39;49m_gcd_import(name[level:], package, level)\n",
      "File \u001b[1;32mc:\\Users\\Felix\\.virtualenvs\\diy_alphazero-3BngPyJJ\\lib\\site-packages\\tensorflow_probability\\python\\experimental\\__init__.py:31\u001b[0m\n\u001b[0;32m     15\u001b[0m \u001b[39m\"\"\"TensorFlow Probability API-unstable package.\u001b[39;00m\n\u001b[0;32m     16\u001b[0m \n\u001b[0;32m     17\u001b[0m \u001b[39mThis package contains potentially useful code which is under active development\u001b[39;00m\n\u001b[1;32m   (...)\u001b[0m\n\u001b[0;32m     27\u001b[0m \u001b[39mYou are welcome to try any of this out (and tell us how well it works for you!).\u001b[39;00m\n\u001b[0;32m     28\u001b[0m \u001b[39m\"\"\"\u001b[39;00m\n\u001b[0;32m     30\u001b[0m \u001b[39mfrom\u001b[39;00m \u001b[39mtensorflow_probability\u001b[39;00m\u001b[39m.\u001b[39;00m\u001b[39mpython\u001b[39;00m\u001b[39m.\u001b[39;00m\u001b[39mexperimental\u001b[39;00m \u001b[39mimport\u001b[39;00m auto_batching\n\u001b[1;32m---> 31\u001b[0m \u001b[39mfrom\u001b[39;00m \u001b[39mtensorflow_probability\u001b[39;00m\u001b[39m.\u001b[39;00m\u001b[39mpython\u001b[39;00m\u001b[39m.\u001b[39;00m\u001b[39mexperimental\u001b[39;00m \u001b[39mimport\u001b[39;00m bijectors\n\u001b[0;32m     32\u001b[0m \u001b[39mfrom\u001b[39;00m \u001b[39mtensorflow_probability\u001b[39;00m\u001b[39m.\u001b[39;00m\u001b[39mpython\u001b[39;00m\u001b[39m.\u001b[39;00m\u001b[39mexperimental\u001b[39;00m \u001b[39mimport\u001b[39;00m distribute\n\u001b[0;32m     33\u001b[0m \u001b[39mfrom\u001b[39;00m \u001b[39mtensorflow_probability\u001b[39;00m\u001b[39m.\u001b[39;00m\u001b[39mpython\u001b[39;00m\u001b[39m.\u001b[39;00m\u001b[39mexperimental\u001b[39;00m \u001b[39mimport\u001b[39;00m distributions\n",
      "File \u001b[1;32mc:\\Users\\Felix\\.virtualenvs\\diy_alphazero-3BngPyJJ\\lib\\site-packages\\tensorflow_probability\\python\\experimental\\bijectors\\__init__.py:17\u001b[0m\n\u001b[0;32m      1\u001b[0m \u001b[39m# Copyright 2020 The TensorFlow Probability Authors.\u001b[39;00m\n\u001b[0;32m      2\u001b[0m \u001b[39m#\u001b[39;00m\n\u001b[0;32m      3\u001b[0m \u001b[39m# Licensed under the Apache License, Version 2.0 (the \"License\");\u001b[39;00m\n\u001b[1;32m   (...)\u001b[0m\n\u001b[0;32m     13\u001b[0m \u001b[39m# limitations under the License.\u001b[39;00m\n\u001b[0;32m     14\u001b[0m \u001b[39m# ============================================================================\u001b[39;00m\n\u001b[0;32m     15\u001b[0m \u001b[39m\"\"\"TensorFlow Probability experimental bijectors package.\"\"\"\u001b[39;00m\n\u001b[1;32m---> 17\u001b[0m \u001b[39mfrom\u001b[39;00m \u001b[39mtensorflow_probability\u001b[39;00m\u001b[39m.\u001b[39;00m\u001b[39mpython\u001b[39;00m\u001b[39m.\u001b[39;00m\u001b[39mbijectors\u001b[39;00m\u001b[39m.\u001b[39;00m\u001b[39mldj_ratio\u001b[39;00m \u001b[39mimport\u001b[39;00m forward_log_det_jacobian_ratio\n\u001b[0;32m     18\u001b[0m \u001b[39mfrom\u001b[39;00m \u001b[39mtensorflow_probability\u001b[39;00m\u001b[39m.\u001b[39;00m\u001b[39mpython\u001b[39;00m\u001b[39m.\u001b[39;00m\u001b[39mbijectors\u001b[39;00m\u001b[39m.\u001b[39;00m\u001b[39mldj_ratio\u001b[39;00m \u001b[39mimport\u001b[39;00m inverse_log_det_jacobian_ratio\n\u001b[0;32m     19\u001b[0m \u001b[39mfrom\u001b[39;00m \u001b[39mtensorflow_probability\u001b[39;00m\u001b[39m.\u001b[39;00m\u001b[39mpython\u001b[39;00m\u001b[39m.\u001b[39;00m\u001b[39mexperimental\u001b[39;00m\u001b[39m.\u001b[39;00m\u001b[39mbijectors\u001b[39;00m\u001b[39m.\u001b[39;00m\u001b[39mdistribution_bijectors\u001b[39;00m \u001b[39mimport\u001b[39;00m make_distribution_bijector\n",
      "File \u001b[1;32mc:\\Users\\Felix\\.virtualenvs\\diy_alphazero-3BngPyJJ\\lib\\site-packages\\tensorflow_probability\\python\\bijectors\\__init__.py:19\u001b[0m\n\u001b[0;32m     15\u001b[0m \u001b[39m\"\"\"Bijective transformations.\"\"\"\u001b[39;00m\n\u001b[0;32m     17\u001b[0m \u001b[39m# pylint: disable=unused-import,wildcard-import,line-too-long,g-importing-member\u001b[39;00m\n\u001b[1;32m---> 19\u001b[0m \u001b[39mfrom\u001b[39;00m \u001b[39mtensorflow_probability\u001b[39;00m\u001b[39m.\u001b[39;00m\u001b[39mpython\u001b[39;00m\u001b[39m.\u001b[39;00m\u001b[39mbijectors\u001b[39;00m\u001b[39m.\u001b[39;00m\u001b[39mabsolute_value\u001b[39;00m \u001b[39mimport\u001b[39;00m AbsoluteValue\n\u001b[0;32m     20\u001b[0m \u001b[39mfrom\u001b[39;00m \u001b[39mtensorflow_probability\u001b[39;00m\u001b[39m.\u001b[39;00m\u001b[39mpython\u001b[39;00m\u001b[39m.\u001b[39;00m\u001b[39mbijectors\u001b[39;00m\u001b[39m.\u001b[39;00m\u001b[39mascending\u001b[39;00m \u001b[39mimport\u001b[39;00m Ascending\n\u001b[0;32m     21\u001b[0m \u001b[39mfrom\u001b[39;00m \u001b[39mtensorflow_probability\u001b[39;00m\u001b[39m.\u001b[39;00m\u001b[39mpython\u001b[39;00m\u001b[39m.\u001b[39;00m\u001b[39mbijectors\u001b[39;00m\u001b[39m.\u001b[39;00m\u001b[39mbatch_normalization\u001b[39;00m \u001b[39mimport\u001b[39;00m BatchNormalization\n",
      "File \u001b[1;32mc:\\Users\\Felix\\.virtualenvs\\diy_alphazero-3BngPyJJ\\lib\\site-packages\\tensorflow_probability\\python\\bijectors\\absolute_value.py:19\u001b[0m\n\u001b[0;32m     15\u001b[0m \u001b[39m\"\"\"AbsoluteValue bijector.\"\"\"\u001b[39;00m\n\u001b[0;32m     17\u001b[0m \u001b[39mimport\u001b[39;00m \u001b[39mtensorflow\u001b[39;00m\u001b[39m.\u001b[39;00m\u001b[39mcompat\u001b[39;00m\u001b[39m.\u001b[39;00m\u001b[39mv2\u001b[39;00m \u001b[39mas\u001b[39;00m \u001b[39mtf\u001b[39;00m\n\u001b[1;32m---> 19\u001b[0m \u001b[39mfrom\u001b[39;00m \u001b[39mtensorflow_probability\u001b[39;00m\u001b[39m.\u001b[39;00m\u001b[39mpython\u001b[39;00m\u001b[39m.\u001b[39;00m\u001b[39mbijectors\u001b[39;00m \u001b[39mimport\u001b[39;00m bijector\n\u001b[0;32m     20\u001b[0m \u001b[39mfrom\u001b[39;00m \u001b[39mtensorflow_probability\u001b[39;00m\u001b[39m.\u001b[39;00m\u001b[39mpython\u001b[39;00m\u001b[39m.\u001b[39;00m\u001b[39minternal\u001b[39;00m \u001b[39mimport\u001b[39;00m assert_util\n\u001b[0;32m     21\u001b[0m \u001b[39mfrom\u001b[39;00m \u001b[39mtensorflow_probability\u001b[39;00m\u001b[39m.\u001b[39;00m\u001b[39mpython\u001b[39;00m\u001b[39m.\u001b[39;00m\u001b[39minternal\u001b[39;00m \u001b[39mimport\u001b[39;00m dtype_util\n",
      "File \u001b[1;32mc:\\Users\\Felix\\.virtualenvs\\diy_alphazero-3BngPyJJ\\lib\\site-packages\\tensorflow_probability\\python\\bijectors\\bijector.py:34\u001b[0m\n\u001b[0;32m     32\u001b[0m \u001b[39mfrom\u001b[39;00m \u001b[39mtensorflow_probability\u001b[39;00m\u001b[39m.\u001b[39;00m\u001b[39mpython\u001b[39;00m\u001b[39m.\u001b[39;00m\u001b[39minternal\u001b[39;00m \u001b[39mimport\u001b[39;00m slicing\n\u001b[0;32m     33\u001b[0m \u001b[39mfrom\u001b[39;00m \u001b[39mtensorflow_probability\u001b[39;00m\u001b[39m.\u001b[39;00m\u001b[39mpython\u001b[39;00m\u001b[39m.\u001b[39;00m\u001b[39minternal\u001b[39;00m \u001b[39mimport\u001b[39;00m tensorshape_util\n\u001b[1;32m---> 34\u001b[0m \u001b[39mfrom\u001b[39;00m \u001b[39mtensorflow_probability\u001b[39;00m\u001b[39m.\u001b[39;00m\u001b[39mpython\u001b[39;00m\u001b[39m.\u001b[39;00m\u001b[39mmath\u001b[39;00m \u001b[39mimport\u001b[39;00m generic \u001b[39mas\u001b[39;00m math_generic\n\u001b[0;32m     35\u001b[0m \u001b[39mfrom\u001b[39;00m \u001b[39mtensorflow_probability\u001b[39;00m\u001b[39m.\u001b[39;00m\u001b[39mpython\u001b[39;00m\u001b[39m.\u001b[39;00m\u001b[39mmath\u001b[39;00m \u001b[39mimport\u001b[39;00m gradient\n\u001b[0;32m     37\u001b[0m \u001b[39m# pylint: disable=g-direct-tensorflow-import\u001b[39;00m\n",
      "File \u001b[1;32mc:\\Users\\Felix\\.virtualenvs\\diy_alphazero-3BngPyJJ\\lib\\site-packages\\tensorflow_probability\\python\\math\\__init__.py:19\u001b[0m\n\u001b[0;32m     17\u001b[0m \u001b[39mfrom\u001b[39;00m \u001b[39mtensorflow_probability\u001b[39;00m\u001b[39m.\u001b[39;00m\u001b[39mpython\u001b[39;00m\u001b[39m.\u001b[39;00m\u001b[39minternal\u001b[39;00m \u001b[39mimport\u001b[39;00m all_util\n\u001b[0;32m     18\u001b[0m \u001b[39mfrom\u001b[39;00m \u001b[39mtensorflow_probability\u001b[39;00m\u001b[39m.\u001b[39;00m\u001b[39mpython\u001b[39;00m\u001b[39m.\u001b[39;00m\u001b[39mmath\u001b[39;00m \u001b[39mimport\u001b[39;00m ode\n\u001b[1;32m---> 19\u001b[0m \u001b[39mfrom\u001b[39;00m \u001b[39mtensorflow_probability\u001b[39;00m\u001b[39m.\u001b[39;00m\u001b[39mpython\u001b[39;00m\u001b[39m.\u001b[39;00m\u001b[39mmath\u001b[39;00m \u001b[39mimport\u001b[39;00m psd_kernels\n\u001b[0;32m     20\u001b[0m \u001b[39mfrom\u001b[39;00m \u001b[39mtensorflow_probability\u001b[39;00m\u001b[39m.\u001b[39;00m\u001b[39mpython\u001b[39;00m\u001b[39m.\u001b[39;00m\u001b[39mmath\u001b[39;00m\u001b[39m.\u001b[39;00m\u001b[39mbessel\u001b[39;00m \u001b[39mimport\u001b[39;00m bessel_iv_ratio\n\u001b[0;32m     21\u001b[0m \u001b[39mfrom\u001b[39;00m \u001b[39mtensorflow_probability\u001b[39;00m\u001b[39m.\u001b[39;00m\u001b[39mpython\u001b[39;00m\u001b[39m.\u001b[39;00m\u001b[39mmath\u001b[39;00m\u001b[39m.\u001b[39;00m\u001b[39mbessel\u001b[39;00m \u001b[39mimport\u001b[39;00m bessel_ive\n",
      "File \u001b[1;32mc:\\Users\\Felix\\.virtualenvs\\diy_alphazero-3BngPyJJ\\lib\\site-packages\\tensorflow_probability\\python\\math\\psd_kernels\\__init__.py:18\u001b[0m\n\u001b[0;32m     15\u001b[0m \u001b[39m\"\"\"Positive-semidefinite kernels package.\"\"\"\u001b[39;00m\n\u001b[0;32m     17\u001b[0m \u001b[39mfrom\u001b[39;00m \u001b[39mtensorflow_probability\u001b[39;00m\u001b[39m.\u001b[39;00m\u001b[39mpython\u001b[39;00m\u001b[39m.\u001b[39;00m\u001b[39minternal\u001b[39;00m \u001b[39mimport\u001b[39;00m all_util\n\u001b[1;32m---> 18\u001b[0m \u001b[39mfrom\u001b[39;00m \u001b[39mtensorflow_probability\u001b[39;00m\u001b[39m.\u001b[39;00m\u001b[39mpython\u001b[39;00m\u001b[39m.\u001b[39;00m\u001b[39mmath\u001b[39;00m\u001b[39m.\u001b[39;00m\u001b[39mpsd_kernels\u001b[39;00m\u001b[39m.\u001b[39;00m\u001b[39mchangepoint\u001b[39;00m \u001b[39mimport\u001b[39;00m ChangePoint\n\u001b[0;32m     19\u001b[0m \u001b[39mfrom\u001b[39;00m \u001b[39mtensorflow_probability\u001b[39;00m\u001b[39m.\u001b[39;00m\u001b[39mpython\u001b[39;00m\u001b[39m.\u001b[39;00m\u001b[39mmath\u001b[39;00m\u001b[39m.\u001b[39;00m\u001b[39mpsd_kernels\u001b[39;00m\u001b[39m.\u001b[39;00m\u001b[39mexp_sin_squared\u001b[39;00m \u001b[39mimport\u001b[39;00m ExpSinSquared\n\u001b[0;32m     20\u001b[0m \u001b[39mfrom\u001b[39;00m \u001b[39mtensorflow_probability\u001b[39;00m\u001b[39m.\u001b[39;00m\u001b[39mpython\u001b[39;00m\u001b[39m.\u001b[39;00m\u001b[39mmath\u001b[39;00m\u001b[39m.\u001b[39;00m\u001b[39mpsd_kernels\u001b[39;00m\u001b[39m.\u001b[39;00m\u001b[39mexponential_curve\u001b[39;00m \u001b[39mimport\u001b[39;00m ExponentialCurve\n",
      "File \u001b[1;32mc:\\Users\\Felix\\.virtualenvs\\diy_alphazero-3BngPyJJ\\lib\\site-packages\\tensorflow_probability\\python\\math\\psd_kernels\\changepoint.py:28\u001b[0m\n\u001b[0;32m     26\u001b[0m \u001b[39mfrom\u001b[39;00m \u001b[39mtensorflow_probability\u001b[39;00m\u001b[39m.\u001b[39;00m\u001b[39mpython\u001b[39;00m\u001b[39m.\u001b[39;00m\u001b[39minternal\u001b[39;00m \u001b[39mimport\u001b[39;00m prefer_static \u001b[39mas\u001b[39;00m ps\n\u001b[0;32m     27\u001b[0m \u001b[39mfrom\u001b[39;00m \u001b[39mtensorflow_probability\u001b[39;00m\u001b[39m.\u001b[39;00m\u001b[39mpython\u001b[39;00m\u001b[39m.\u001b[39;00m\u001b[39minternal\u001b[39;00m \u001b[39mimport\u001b[39;00m tensor_util\n\u001b[1;32m---> 28\u001b[0m \u001b[39mfrom\u001b[39;00m \u001b[39mtensorflow_probability\u001b[39;00m\u001b[39m.\u001b[39;00m\u001b[39mpython\u001b[39;00m\u001b[39m.\u001b[39;00m\u001b[39mmath\u001b[39;00m\u001b[39m.\u001b[39;00m\u001b[39mpsd_kernels\u001b[39;00m \u001b[39mimport\u001b[39;00m positive_semidefinite_kernel \u001b[39mas\u001b[39;00m psd_kernel\n\u001b[0;32m     29\u001b[0m \u001b[39mfrom\u001b[39;00m \u001b[39mtensorflow_probability\u001b[39;00m\u001b[39m.\u001b[39;00m\u001b[39mpython\u001b[39;00m\u001b[39m.\u001b[39;00m\u001b[39mmath\u001b[39;00m\u001b[39m.\u001b[39;00m\u001b[39mpsd_kernels\u001b[39;00m\u001b[39m.\u001b[39;00m\u001b[39minternal\u001b[39;00m \u001b[39mimport\u001b[39;00m util\n\u001b[0;32m     31\u001b[0m __all__ \u001b[39m=\u001b[39m [\u001b[39m'\u001b[39m\u001b[39mChangePoint\u001b[39m\u001b[39m'\u001b[39m]\n",
      "File \u001b[1;32mc:\\Users\\Felix\\.virtualenvs\\diy_alphazero-3BngPyJJ\\lib\\site-packages\\tensorflow_probability\\python\\math\\psd_kernels\\positive_semidefinite_kernel.py:1217\u001b[0m\n\u001b[0;32m   1208\u001b[0m     \u001b[39mcls\u001b[39m \u001b[39m=\u001b[39m \u001b[39msuper\u001b[39m(_AutoCompositeTensorPsdKernelMeta, mcs)\u001b[39m.\u001b[39m\u001b[39m__new__\u001b[39m(  \u001b[39m# pylint: disable=too-many-function-args\u001b[39;00m\n\u001b[0;32m   1209\u001b[0m         mcs, classname, baseclasses, attrs)\n\u001b[0;32m   1210\u001b[0m     \u001b[39mreturn\u001b[39;00m auto_composite_tensor\u001b[39m.\u001b[39mauto_composite_tensor(\n\u001b[0;32m   1211\u001b[0m         \u001b[39mcls\u001b[39m,\n\u001b[0;32m   1212\u001b[0m         omit_kwargs\u001b[39m=\u001b[39m(\u001b[39m'\u001b[39m\u001b[39mparameters\u001b[39m\u001b[39m'\u001b[39m,),\n\u001b[0;32m   1213\u001b[0m         non_identifying_kwargs\u001b[39m=\u001b[39m(\u001b[39m'\u001b[39m\u001b[39mname\u001b[39m\u001b[39m'\u001b[39m,),\n\u001b[0;32m   1214\u001b[0m         module_name\u001b[39m=\u001b[39m\u001b[39m'\u001b[39m\u001b[39mtfp.math._psdkernels\u001b[39m\u001b[39m'\u001b[39m)\n\u001b[1;32m-> 1217\u001b[0m \u001b[39mclass\u001b[39;00m \u001b[39mAutoCompositeTensorPsdKernel\u001b[39;00m(PositiveSemidefiniteKernel,\n\u001b[0;32m   1218\u001b[0m                                    auto_composite_tensor\u001b[39m.\u001b[39mAutoCompositeTensor,\n\u001b[0;32m   1219\u001b[0m                                    metaclass\u001b[39m=\u001b[39m_AutoCompositeTensorPsdKernelMeta):\n\u001b[0;32m   1220\u001b[0m   \u001b[39mpass\u001b[39;00m\n\u001b[0;32m   1223\u001b[0m \u001b[39mdef\u001b[39;00m \u001b[39m_flatten_summand_list\u001b[39m(kernels):\n",
      "File \u001b[1;32mc:\\Users\\Felix\\.virtualenvs\\diy_alphazero-3BngPyJJ\\lib\\site-packages\\tensorflow_probability\\python\\math\\psd_kernels\\positive_semidefinite_kernel.py:1210\u001b[0m, in \u001b[0;36m_AutoCompositeTensorPsdKernelMeta.__new__\u001b[1;34m(mcs, classname, baseclasses, attrs)\u001b[0m\n\u001b[0;32m   1206\u001b[0m \u001b[39m\u001b[39m\u001b[39m\"\"\"Give subclasses their own type_spec, not an inherited one.\"\"\"\u001b[39;00m\n\u001b[0;32m   1208\u001b[0m \u001b[39mcls\u001b[39m \u001b[39m=\u001b[39m \u001b[39msuper\u001b[39m(_AutoCompositeTensorPsdKernelMeta, mcs)\u001b[39m.\u001b[39m\u001b[39m__new__\u001b[39m(  \u001b[39m# pylint: disable=too-many-function-args\u001b[39;00m\n\u001b[0;32m   1209\u001b[0m     mcs, classname, baseclasses, attrs)\n\u001b[1;32m-> 1210\u001b[0m \u001b[39mreturn\u001b[39;00m auto_composite_tensor\u001b[39m.\u001b[39;49mauto_composite_tensor(\n\u001b[0;32m   1211\u001b[0m     \u001b[39mcls\u001b[39;49m,\n\u001b[0;32m   1212\u001b[0m     omit_kwargs\u001b[39m=\u001b[39;49m(\u001b[39m'\u001b[39;49m\u001b[39mparameters\u001b[39;49m\u001b[39m'\u001b[39;49m,),\n\u001b[0;32m   1213\u001b[0m     non_identifying_kwargs\u001b[39m=\u001b[39;49m(\u001b[39m'\u001b[39;49m\u001b[39mname\u001b[39;49m\u001b[39m'\u001b[39;49m,),\n\u001b[0;32m   1214\u001b[0m     module_name\u001b[39m=\u001b[39;49m\u001b[39m'\u001b[39;49m\u001b[39mtfp.math._psdkernels\u001b[39;49m\u001b[39m'\u001b[39;49m)\n",
      "File \u001b[1;32mc:\\Users\\Felix\\.virtualenvs\\diy_alphazero-3BngPyJJ\\lib\\site-packages\\tensorflow_probability\\python\\internal\\auto_composite_tensor.py:675\u001b[0m, in \u001b[0;36mauto_composite_tensor\u001b[1;34m(cls, omit_kwargs, non_identifying_kwargs, module_name)\u001b[0m\n\u001b[0;32m    669\u001b[0m \u001b[39m# If the declared class is already a CompositeTensor subclass, we can avoid\u001b[39;00m\n\u001b[0;32m    670\u001b[0m \u001b[39m# affecting the actual type of the returned class. Otherwise, we need to\u001b[39;00m\n\u001b[0;32m    671\u001b[0m \u001b[39m# explicitly mix in the CT type, and hence create and return a newly\u001b[39;00m\n\u001b[0;32m    672\u001b[0m \u001b[39m# synthesized type.\u001b[39;00m\n\u001b[0;32m    673\u001b[0m \u001b[39mif\u001b[39;00m \u001b[39missubclass\u001b[39m(\u001b[39mcls\u001b[39m, composite_tensor\u001b[39m.\u001b[39mCompositeTensor):\n\u001b[1;32m--> 675\u001b[0m   \u001b[39m@type_spec_register\u001b[39m(type_spec_name)\n\u001b[0;32m    676\u001b[0m   \u001b[39mclass\u001b[39;00m \u001b[39m_AlreadyCTTypeSpec\u001b[39;00m(_AutoCompositeTensorTypeSpec):\n\u001b[0;32m    678\u001b[0m     \u001b[39m@property\u001b[39m\n\u001b[0;32m    679\u001b[0m     \u001b[39mdef\u001b[39;00m \u001b[39mvalue_type\u001b[39m(\u001b[39mself\u001b[39m):\n\u001b[0;32m    680\u001b[0m       \u001b[39mreturn\u001b[39;00m \u001b[39mcls\u001b[39m\n",
      "File \u001b[1;32mc:\\Users\\Felix\\.virtualenvs\\diy_alphazero-3BngPyJJ\\lib\\site-packages\\tensorflow_probability\\python\\internal\\auto_composite_tensor.py:510\u001b[0m, in \u001b[0;36mtype_spec_register\u001b[1;34m(name, allow_overwrite)\u001b[0m\n\u001b[0;32m    491\u001b[0m \u001b[39m\u001b[39m\u001b[39m\"\"\"Decorator used to register a unique name for a TypeSpec subclass.\u001b[39;00m\n\u001b[0;32m    492\u001b[0m \n\u001b[0;32m    493\u001b[0m \u001b[39mUnlike TensorFlow's `type_spec.register`, this function allows a new\u001b[39;00m\n\u001b[1;32m   (...)\u001b[0m\n\u001b[0;32m    507\u001b[0m \u001b[39m  A class decorator that registers the decorated class with the given name.\u001b[39;00m\n\u001b[0;32m    508\u001b[0m \u001b[39m\"\"\"\u001b[39;00m\n\u001b[0;32m    509\u001b[0m \u001b[39m# pylint: disable=protected-access\u001b[39;00m\n\u001b[1;32m--> 510\u001b[0m \u001b[39mif\u001b[39;00m allow_overwrite \u001b[39mand\u001b[39;00m name \u001b[39min\u001b[39;00m type_spec\u001b[39m.\u001b[39;49m_NAME_TO_TYPE_SPEC:\n\u001b[0;32m    511\u001b[0m   type_spec\u001b[39m.\u001b[39m_TYPE_SPEC_TO_NAME\u001b[39m.\u001b[39mpop(\n\u001b[0;32m    512\u001b[0m       type_spec\u001b[39m.\u001b[39m_NAME_TO_TYPE_SPEC\u001b[39m.\u001b[39mpop(name))\n\u001b[0;32m    513\u001b[0m \u001b[39mreturn\u001b[39;00m type_spec\u001b[39m.\u001b[39mregister(name)\n",
      "\u001b[1;31mAttributeError\u001b[0m: module 'tensorflow.python.framework.type_spec' has no attribute '_NAME_TO_TYPE_SPEC'"
     ]
    }
   ],
   "source": [
    "import tensorflow as tf\n",
    "import gym\n",
    "from gym import spaces\n",
    "import numpy as np6\n",
    "\n",
    "from tf_agents.agents.dqn import dqn_agent\n",
    "from tf_agents.networks import q_network\n",
    "from tf_agents.environments import tf_py_environment\n",
    "from tf_agents.replay_buffers import tf_uniform_replay_buffer\n",
    "from tf_agents.trajectories import trajectory\n",
    "from tf_agents.policies import random_tf_policy\n",
    "from tf_agents.utils import common\n",
    "from tf_agents.environments import utils\n",
    "from tf_agents.environments import suite_gym\n",
    "from tf_agents.trajectories import time_step as ts"
   ]
  },
  {
   "cell_type": "code",
   "execution_count": null,
   "metadata": {},
   "outputs": [],
   "source": [
    "# ConnectFourEnv code\n",
    "class ConnectFourEnv(gym.Env):\n",
    "    def __init__(self):\n",
    "        super(ConnectFourEnv, self).__init__()\n",
    "        self.board = np.zeros((6, 7))\n",
    "        self.current_player = 1\n",
    "        self.action_space = spaces.Discrete(7)\n",
    "        self.observation_space = spaces.Box(low=0, high=2, shape=(6, 7), dtype=np.int)\n",
    "\n",
    "    def step(self, action):\n",
    "        if np.all(self.board[:, action] != 0):\n",
    "            return self.board.flatten(), -10, True, {}\n",
    "        row = np.max(np.where(self.board[:, action] == 0))\n",
    "        self.board[row, action] = self.current_player\n",
    "        if self.check_win(self.current_player):\n",
    "            return self.board.flatten(), 10, True, {}\n",
    "        if np.all(self.board != 0):\n",
    "            return self.board.flatten(), 0, True, {}\n",
    "        self.current_player = 1 if self.current_player == 2 else 2\n",
    "        return self.board.flatten(), 0, False, {}\n",
    "\n",
    "    def reset(self):\n",
    "        self.board = np.zeros((6, 7))\n",
    "        self.current_player = 1\n",
    "        return self.board.flatten()\n",
    "\n",
    "    def check_win(self, player):\n",
    "        for i in range(6):\n",
    "            for j in range(4):\n",
    "                if np.all(self.board[i, j:j+4] == player):\n",
    "                    return True\n",
    "        for i in range(3):\n",
    "            for j in range(7):\n",
    "                if np.all(self.board[i:i+4, j] == player):\n",
    "                    return True\n",
    "        for i in range(3):\n",
    "            for j in range(4):\n",
    "                if np.all(np.array([self.board[i+k, j+k] for k in range(4)]) == player):\n",
    "                    return True\n",
    "        for i in range(3, 6):\n",
    "            for j in range(3):\n",
    "                if np.all(np.array([self.board[i-k, j+k] for k in range(4)]) == player):\n",
    "                    return True\n",
    "        return False"
   ]
  },
  {
   "cell_type": "code",
   "execution_count": null,
   "metadata": {},
   "outputs": [],
   "source": [
    "# Convert the Python environment to a TensorFlow environment.\n",
    "train_env = tf_py_environment.TFPyEnvironment(ConnectFourEnv())\n",
    "eval_env = tf_py_environment.TFPyEnvironment(ConnectFourEnv())\n"
   ]
  },
  {
   "cell_type": "code",
   "execution_count": null,
   "metadata": {},
   "outputs": [],
   "source": [
    "\n",
    "# Initialize the QNetwork.\n",
    "fc_layer_params = (100,)\n",
    "q_net = q_network.QNetwork(\n",
    "    train_env.observation_spec(),\n",
    "    train_env.action_spec(),\n",
    "    fc_layer_params=fc_layer_params)\n"
   ]
  },
  {
   "cell_type": "code",
   "execution_count": null,
   "metadata": {},
   "outputs": [],
   "source": [
    "\n",
    "# Initialize the agent.\n",
    "optimizer = tf.compat.v1.train.AdamOptimizer(learning_rate=0.001)\n",
    "train_step_counter = tf.Variable(0)\n",
    "agent = dqn_agent.DqnAgent(\n",
    "    train_env.time_step_spec(),\n",
    "    train_env.action_spec(),\n",
    "    q_network=q_net,\n",
    "    optimizer=optimizer,\n",
    "    td_errors_loss_fn=common.element_wise_squared_loss,\n",
    "    train_step_counter=train_step_counter)\n",
    "agent.initialize()\n"
   ]
  },
  {
   "cell_type": "code",
   "execution_count": null,
   "metadata": {},
   "outputs": [],
   "source": [
    "\n",
    "# Initialize the replay buffer.\n",
    "replay_buffer = tf_uniform_replay_buffer.TFUniformReplayBuffer(\n",
    "    data_spec=agent.collect_data_spec,\n",
    "    batch_size=train_env.batch_size,\n",
    "    max_length=100000)\n"
   ]
  },
  {
   "cell_type": "code",
   "execution_count": null,
   "metadata": {},
   "outputs": [],
   "source": [
    "\n",
    "# Initialize the data collection policy and collect some initial data.\n",
    "collect_policy = agent.collect_policy\n",
    "random_policy = random_tf_policy.RandomTFPolicy(train_env.time_step_spec(),\n",
    "                                                train_env.action_spec())\n",
    "initial_collect_steps = 1000\n",
    "for _ in range(initial_collect_steps):\n",
    "    time_step = train_env.current_time_step()\n",
    "    action_step = random_policy.action(time_step)\n",
    "    next_time_step = train_env.step(action_step.action)\n",
    "    traj = trajectory.from_transition(time_step, action_step, next_time_step)\n",
    "    replay_buffer.add_batch(traj)\n"
   ]
  },
  {
   "cell_type": "code",
   "execution_count": null,
   "metadata": {},
   "outputs": [],
   "source": [
    "\n",
    "# Set up the dataset.\n",
    "dataset = replay_buffer.as_dataset(\n",
    "    num_parallel_calls=3, \n",
    "    sample_batch_size=64, \n",
    "    num_steps=2).prefetch(3)\n",
    "\n",
    "iterator = iter(dataset)\n"
   ]
  },
  {
   "cell_type": "code",
   "execution_count": null,
   "metadata": {},
   "outputs": [],
   "source": [
    "\n",
    "# Train the agent.\n",
    "num_iterations = 20000\n",
    "log_interval = 200\n",
    "for _ in range(num_iterations):\n",
    "    # Agent's turn\n",
    "    time_step = train_env.current_time_step()\n",
    "    action_step = agent.collect_policy.action(time_step)\n",
    "    next_time_step = train_env.step(action_step.action)\n",
    "    traj = trajectory.from_transition(time_step, action_step, next_time_step)\n",
    "    replay_buffer.add_batch(traj)\n",
    "\n",
    "    # Opponent's turn\n",
    "    if not next_time_step.is_last():\n",
    "        time_step = train_env.current_time_step()\n",
    "        action_step = random_policy.action(time_step)\n",
    "        next_time_step = train_env.step(action_step.action)\n",
    "        traj = trajectory.from_transition(time_step, action_step, next_time_step)\n",
    "        replay_buffer.add_batch(traj)\n",
    "\n",
    "    experience, unused_info = next(iterator)\n",
    "    train_loss = agent.train(experience).loss\n",
    "\n",
    "    if train_step_counter.numpy() % log_interval == 0:\n",
    "        print('step = {0}: loss = {1}'.format(train_step_counter.numpy(), train_loss))\n"
   ]
  }
 ],
 "metadata": {
  "kernelspec": {
   "display_name": "diy_alphazero-3BngPyJJ",
   "language": "python",
   "name": "python3"
  },
  "language_info": {
   "codemirror_mode": {
    "name": "ipython",
    "version": 3
   },
   "file_extension": ".py",
   "mimetype": "text/x-python",
   "name": "python",
   "nbconvert_exporter": "python",
   "pygments_lexer": "ipython3",
   "version": "3.10.11"
  },
  "orig_nbformat": 4
 },
 "nbformat": 4,
 "nbformat_minor": 2
}
